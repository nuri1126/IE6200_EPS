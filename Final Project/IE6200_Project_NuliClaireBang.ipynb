{
 "cells": [
  {
   "cell_type": "markdown",
   "id": "temporal-picking",
   "metadata": {},
   "source": [
    "# Project for IE6200 (2021 Spring)\n",
    "## Nuli \"Claire\" Bang"
   ]
  },
  {
   "cell_type": "markdown",
   "id": "urban-nevada",
   "metadata": {},
   "source": [
    "## Introduction\n",
    "The sinking of the Titanic is one of the most infamous shipwrecks in history.On April 15, 1912, during her  maiden  voyage,  the  widely  considered  “unsinkable”  RMS  Titanic  sank  after  colliding  with  an iceberg. Unfortunately, there weren’t enough lifeboats for everyone onboard, resulting in the death of 1502 out of 2224 passengers and crew.While there was some element of luck involved in surviving, it seems some groups of people were more likely to survive than others.For thisproject youwere asked to answerthe following questions based on Titanic.CSV fileto find the possible groups of people were more likely to survive."
   ]
  },
  {
   "cell_type": "markdown",
   "id": "dedicated-baseball",
   "metadata": {},
   "source": [
    "## Part 1\n",
    "Data ManipulationIn order to analyzeand report on the data, youhave to use ipython notebook, along with the numpy, pandas, matplotlib.pyplot and seaborn python modules. Before you analyze on your data set, you need to preprocessyour original dataas the following questions."
   ]
  },
  {
   "cell_type": "code",
   "execution_count": 4,
   "id": "relevant-thickness",
   "metadata": {},
   "outputs": [
    {
     "data": {
      "text/html": [
       "<div>\n",
       "<style scoped>\n",
       "    .dataframe tbody tr th:only-of-type {\n",
       "        vertical-align: middle;\n",
       "    }\n",
       "\n",
       "    .dataframe tbody tr th {\n",
       "        vertical-align: top;\n",
       "    }\n",
       "\n",
       "    .dataframe thead th {\n",
       "        text-align: right;\n",
       "    }\n",
       "</style>\n",
       "<table border=\"1\" class=\"dataframe\">\n",
       "  <thead>\n",
       "    <tr style=\"text-align: right;\">\n",
       "      <th></th>\n",
       "      <th>PassengerId</th>\n",
       "      <th>Survived</th>\n",
       "      <th>Pclass</th>\n",
       "      <th>Name</th>\n",
       "      <th>Sex</th>\n",
       "      <th>Age</th>\n",
       "      <th>SibSp</th>\n",
       "      <th>Parch</th>\n",
       "      <th>Ticket</th>\n",
       "      <th>Fare</th>\n",
       "      <th>Cabin</th>\n",
       "      <th>Embarked</th>\n",
       "    </tr>\n",
       "  </thead>\n",
       "  <tbody>\n",
       "    <tr>\n",
       "      <th>0</th>\n",
       "      <td>1</td>\n",
       "      <td>0</td>\n",
       "      <td>3</td>\n",
       "      <td>Braund, Mr. Owen Harris</td>\n",
       "      <td>male</td>\n",
       "      <td>22.0</td>\n",
       "      <td>1</td>\n",
       "      <td>0</td>\n",
       "      <td>A/5 21171</td>\n",
       "      <td>7.2500</td>\n",
       "      <td>NaN</td>\n",
       "      <td>S</td>\n",
       "    </tr>\n",
       "    <tr>\n",
       "      <th>1</th>\n",
       "      <td>2</td>\n",
       "      <td>1</td>\n",
       "      <td>1</td>\n",
       "      <td>Cumings, Mrs. John Bradley (Florence Briggs Th...</td>\n",
       "      <td>female</td>\n",
       "      <td>38.0</td>\n",
       "      <td>1</td>\n",
       "      <td>0</td>\n",
       "      <td>PC 17599</td>\n",
       "      <td>71.2833</td>\n",
       "      <td>C85</td>\n",
       "      <td>C</td>\n",
       "    </tr>\n",
       "    <tr>\n",
       "      <th>2</th>\n",
       "      <td>3</td>\n",
       "      <td>1</td>\n",
       "      <td>3</td>\n",
       "      <td>Heikkinen, Miss. Laina</td>\n",
       "      <td>female</td>\n",
       "      <td>26.0</td>\n",
       "      <td>0</td>\n",
       "      <td>0</td>\n",
       "      <td>STON/O2. 3101282</td>\n",
       "      <td>7.9250</td>\n",
       "      <td>NaN</td>\n",
       "      <td>S</td>\n",
       "    </tr>\n",
       "    <tr>\n",
       "      <th>3</th>\n",
       "      <td>4</td>\n",
       "      <td>1</td>\n",
       "      <td>1</td>\n",
       "      <td>Futrelle, Mrs. Jacques Heath (Lily May Peel)</td>\n",
       "      <td>female</td>\n",
       "      <td>35.0</td>\n",
       "      <td>1</td>\n",
       "      <td>0</td>\n",
       "      <td>113803</td>\n",
       "      <td>53.1000</td>\n",
       "      <td>C123</td>\n",
       "      <td>S</td>\n",
       "    </tr>\n",
       "    <tr>\n",
       "      <th>4</th>\n",
       "      <td>5</td>\n",
       "      <td>0</td>\n",
       "      <td>3</td>\n",
       "      <td>Allen, Mr. William Henry</td>\n",
       "      <td>male</td>\n",
       "      <td>35.0</td>\n",
       "      <td>0</td>\n",
       "      <td>0</td>\n",
       "      <td>373450</td>\n",
       "      <td>8.0500</td>\n",
       "      <td>NaN</td>\n",
       "      <td>S</td>\n",
       "    </tr>\n",
       "  </tbody>\n",
       "</table>\n",
       "</div>"
      ],
      "text/plain": [
       "   PassengerId  Survived  Pclass  \\\n",
       "0            1         0       3   \n",
       "1            2         1       1   \n",
       "2            3         1       3   \n",
       "3            4         1       1   \n",
       "4            5         0       3   \n",
       "\n",
       "                                                Name     Sex   Age  SibSp  \\\n",
       "0                            Braund, Mr. Owen Harris    male  22.0      1   \n",
       "1  Cumings, Mrs. John Bradley (Florence Briggs Th...  female  38.0      1   \n",
       "2                             Heikkinen, Miss. Laina  female  26.0      0   \n",
       "3       Futrelle, Mrs. Jacques Heath (Lily May Peel)  female  35.0      1   \n",
       "4                           Allen, Mr. William Henry    male  35.0      0   \n",
       "\n",
       "   Parch            Ticket     Fare Cabin Embarked  \n",
       "0      0         A/5 21171   7.2500   NaN        S  \n",
       "1      0          PC 17599  71.2833   C85        C  \n",
       "2      0  STON/O2. 3101282   7.9250   NaN        S  \n",
       "3      0            113803  53.1000  C123        S  \n",
       "4      0            373450   8.0500   NaN        S  "
      ]
     },
     "execution_count": 4,
     "metadata": {},
     "output_type": "execute_result"
    }
   ],
   "source": [
    "import pandas as pd\n",
    "import numpy as np\n",
    "\n",
    "df = pd.read_csv(\"Titanic.csv\")\n",
    "df.head()"
   ]
  },
  {
   "cell_type": "markdown",
   "id": "thorough-leave",
   "metadata": {},
   "source": [
    "### 1.1 What is the size of the dataset?"
   ]
  },
  {
   "cell_type": "markdown",
   "id": "different-failure",
   "metadata": {},
   "source": [
    "### 1.2 What are the features in this dataset? What is the data type of the features in the dataset?"
   ]
  },
  {
   "cell_type": "code",
   "execution_count": 6,
   "id": "established-anthropology",
   "metadata": {},
   "outputs": [
    {
     "name": "stdout",
     "output_type": "stream",
     "text": [
      "<class 'pandas.core.frame.DataFrame'>\n",
      "RangeIndex: 891 entries, 0 to 890\n",
      "Data columns (total 12 columns):\n",
      " #   Column       Non-Null Count  Dtype  \n",
      "---  ------       --------------  -----  \n",
      " 0   PassengerId  891 non-null    int64  \n",
      " 1   Survived     891 non-null    int64  \n",
      " 2   Pclass       891 non-null    int64  \n",
      " 3   Name         891 non-null    object \n",
      " 4   Sex          891 non-null    object \n",
      " 5   Age          714 non-null    float64\n",
      " 6   SibSp        891 non-null    int64  \n",
      " 7   Parch        891 non-null    int64  \n",
      " 8   Ticket       891 non-null    object \n",
      " 9   Fare         891 non-null    float64\n",
      " 10  Cabin        204 non-null    object \n",
      " 11  Embarked     889 non-null    object \n",
      "dtypes: float64(2), int64(5), object(5)\n",
      "memory usage: 83.7+ KB\n"
     ]
    }
   ],
   "source": [
    "df.info()"
   ]
  },
  {
   "cell_type": "markdown",
   "id": "bronze-government",
   "metadata": {},
   "source": [
    "### 1.3 Are there any duplicated rows or columns? You can delete that row if there are duplicated rows and columns."
   ]
  },
  {
   "cell_type": "code",
   "execution_count": 7,
   "id": "requested-bargain",
   "metadata": {},
   "outputs": [
    {
     "name": "stdout",
     "output_type": "stream",
     "text": [
      "number of duplicate rows:  (0, 12)\n",
      "Empty DataFrame\n",
      "Columns: [PassengerId, Survived, Pclass, Name, Sex, Age, SibSp, Parch, Ticket, Fare, Cabin, Embarked]\n",
      "Index: []\n"
     ]
    }
   ],
   "source": [
    "duplicated_df = df[df.duplicated()]\n",
    "print (\"number of duplicate rows: \", duplicated_df.shape)\n",
    "print(duplicated_df)"
   ]
  },
  {
   "cell_type": "markdown",
   "id": "virtual-study",
   "metadata": {},
   "source": [
    "> no duplicates exists"
   ]
  },
  {
   "cell_type": "markdown",
   "id": "activated-forestry",
   "metadata": {},
   "source": [
    "### 1.4 Is there any missing value in the dataset? You can delete that row if there are missing values."
   ]
  },
  {
   "cell_type": "code",
   "execution_count": 8,
   "id": "differential-revision",
   "metadata": {},
   "outputs": [
    {
     "name": "stdout",
     "output_type": "stream",
     "text": [
      "177\n",
      "PassengerId      0\n",
      "Survived         0\n",
      "Pclass           0\n",
      "Name             0\n",
      "Sex              0\n",
      "Age            177\n",
      "SibSp            0\n",
      "Parch            0\n",
      "Ticket           0\n",
      "Fare             0\n",
      "Cabin          687\n",
      "Embarked         2\n",
      "dtype: int64\n",
      "total null values:866\n"
     ]
    }
   ],
   "source": [
    "print (df['Age'].isna().sum())\n",
    "print (df.isna().sum())\n",
    "print (\"total null values:\"+str(df.isna().sum().sum()))"
   ]
  },
  {
   "cell_type": "markdown",
   "id": "pursuant-preview",
   "metadata": {},
   "source": [
    "## Part 2 Analysis \n",
    "### 2.1 How old were Survivors compared to Non-Survivors? Did age effect chances of survival?"
   ]
  },
  {
   "cell_type": "code",
   "execution_count": 53,
   "id": "given-diagram",
   "metadata": {},
   "outputs": [
    {
     "name": "stdout",
     "output_type": "stream",
     "text": [
      "Max age: 80.0\n"
     ]
    }
   ],
   "source": [
    "# clean data with null Age value\n",
    "df_agecleaned = df.dropna(subset=['Age'])\n",
    "#print(df_agecleaned.head(10))\n",
    "print('Max age:',df_agecleaned['Age'].max())"
   ]
  },
  {
   "cell_type": "code",
   "execution_count": 114,
   "id": "equal-support",
   "metadata": {},
   "outputs": [
    {
     "name": "stderr",
     "output_type": "stream",
     "text": [
      "/usr/local/lib/python3.7/site-packages/ipykernel_launcher.py:4: SettingWithCopyWarning: \n",
      "A value is trying to be set on a copy of a slice from a DataFrame.\n",
      "Try using .loc[row_indexer,col_indexer] = value instead\n",
      "\n",
      "See the caveats in the documentation: https://pandas.pydata.org/pandas-docs/stable/user_guide/indexing.html#returning-a-view-versus-a-copy\n",
      "  after removing the cwd from sys.path.\n"
     ]
    }
   ],
   "source": [
    "#group people by age \n",
    "bins= [0,10,20,30,40,50,60,70,80,90]\n",
    "labels = ['0-10','10-20','20-30','30-40','40-50','50-60','60-70','70-80','80-90']\n",
    "df_agecleaned['AgeGroup'] = pd.cut(df_agecleaned['Age'], bins=bins, labels=labels, right=False)"
   ]
  },
  {
   "cell_type": "code",
   "execution_count": 115,
   "id": "higher-vertex",
   "metadata": {},
   "outputs": [
    {
     "name": "stdout",
     "output_type": "stream",
     "text": [
      "Survived    0   1\n",
      "AgeGroup         \n",
      "0-10       24  38\n",
      "10-20      61  41\n",
      "20-30     143  77\n",
      "30-40      94  73\n",
      "40-50      55  34\n",
      "50-60      28  20\n",
      "60-70      13   6\n",
      "70-80       6   0\n",
      "80-90       0   1\n",
      "Survived         0         1\n",
      "AgeGroup                    \n",
      "0-10      0.387097  0.612903\n",
      "10-20     0.598039  0.401961\n",
      "20-30     0.650000  0.350000\n",
      "30-40     0.562874  0.437126\n",
      "40-50     0.617978  0.382022\n",
      "50-60     0.583333  0.416667\n",
      "60-70     0.684211  0.315789\n",
      "70-80     1.000000  0.000000\n",
      "80-90     0.000000  1.000000\n"
     ]
    },
    {
     "data": {
      "image/png": "[encoded data removed]",
      "text/plain": [
       "<Figure size 432x288 with 1 Axes>"
      ]
     },
     "metadata": {},
     "output_type": "display_data"
    },
    {
     "data": {
      "image/png": "[encoded data removed]",
      "text/plain": [
       "<Figure size 432x288 with 1 Axes>"
      ]
     },
     "metadata": {},
     "output_type": "display_data"
    }
   ],
   "source": [
    "#count of survivors and non survivors by AgeGroup\n",
    "tablebyage = pd.crosstab(df_agecleaned['AgeGroup'],df_agecleaned['Survived'])\n",
    "print(tablebyage)\n",
    "tablebyage.plot.bar(stacked=False).set_ylabel(\"Number of people\")\n",
    "tablebyage2 = pd.crosstab(df_agecleaned['AgeGroup'],df_agecleaned['Survived'], normalize='index')\n",
    "tablebyage2.plot.bar(stacked=True).set_ylabel(\"Percentage\")\n",
    "print(tablebyage2)"
   ]
  },
  {
   "cell_type": "markdown",
   "id": "modern-webmaster",
   "metadata": {},
   "source": [
    "#### --> we can see the fact that younger people had more chances to survive from above chart."
   ]
  },
  {
   "cell_type": "markdown",
   "id": "blocked-buying",
   "metadata": {},
   "source": [
    "### 2.2 Was the fare the same for men and women?"
   ]
  },
  {
   "cell_type": "code",
   "execution_count": 107,
   "id": "confirmed-grenada",
   "metadata": {},
   "outputs": [
    {
     "data": {
      "text/plain": [
       "[(0.0, 150.0)]"
      ]
     },
     "execution_count": 107,
     "metadata": {},
     "output_type": "execute_result"
    },
    {
     "data": {
      "image/png": "[encoded data removed]",
      "text/plain": [
       "<Figure size 432x288 with 1 Axes>"
      ]
     },
     "metadata": {},
     "output_type": "display_data"
    }
   ],
   "source": [
    "import seaborn as sns\n",
    "ax = sns.boxplot(x='Sex', y = 'Fare', data=df)\n",
    "ax.set(ylim=(0, 150))"
   ]
  },
  {
   "cell_type": "markdown",
   "id": "artificial-magic",
   "metadata": {},
   "source": [
    "#### We can see that the fare for women used to set higher than men's"
   ]
  },
  {
   "cell_type": "markdown",
   "id": "efficient-picnic",
   "metadata": {},
   "source": [
    "### 2.3 How many female survivors compared to male survivors? Did the gender effect chances of survival?"
   ]
  },
  {
   "cell_type": "code",
   "execution_count": 123,
   "id": "inside-optimum",
   "metadata": {},
   "outputs": [
    {
     "name": "stdout",
     "output_type": "stream",
     "text": [
      "Survived    0    1\n",
      "Sex               \n",
      "female     64  197\n",
      "male      360   93\n",
      "Survived         0         1\n",
      "Sex                         \n",
      "female    0.245211  0.754789\n",
      "male      0.794702  0.205298\n"
     ]
    },
    {
     "data": {
      "image/png": "[encoded data removed]",
      "text/plain": [
       "<Figure size 432x288 with 1 Axes>"
      ]
     },
     "metadata": {},
     "output_type": "display_data"
    },
    {
     "data": {
      "image/png": "[encoded data removed]",
      "text/plain": [
       "<Figure size 432x288 with 1 Axes>"
      ]
     },
     "metadata": {},
     "output_type": "display_data"
    }
   ],
   "source": [
    "tablebysex = pd.crosstab(df_agecleaned['Sex'],df_agecleaned['Survived'])\n",
    "print(tablebysex)\n",
    "tablebysex.plot.bar(stacked=False).set_ylabel(\"Number of people\")\n",
    "tablebysex2 = pd.crosstab(df_agecleaned['Sex'],df_agecleaned['Survived'], normalize='index')\n",
    "tablebysex2.plot.bar(stacked=True).set_ylabel(\"Percentage\")\n",
    "print(tablebysex2)"
   ]
  },
  {
   "cell_type": "markdown",
   "id": "external-staff",
   "metadata": {},
   "source": [
    "#### More Women survived than men"
   ]
  },
  {
   "cell_type": "markdown",
   "id": "faced-cabinet",
   "metadata": {},
   "source": [
    "### 2.4 How many passengers where in each class? How many passengers survived in each class? Did Pclass affect survival?"
   ]
  },
  {
   "cell_type": "code",
   "execution_count": 124,
   "id": "military-partner",
   "metadata": {},
   "outputs": [
    {
     "name": "stdout",
     "output_type": "stream",
     "text": [
      "Survived    0    1\n",
      "Pclass            \n",
      "1          64  122\n",
      "2          90   83\n",
      "3         270   85\n",
      "Survived         0         1\n",
      "Pclass                      \n",
      "1         0.344086  0.655914\n",
      "2         0.520231  0.479769\n",
      "3         0.760563  0.239437\n"
     ]
    },
    {
     "data": {
      "image/png": "[encoded data removed]",
      "text/plain": [
       "<Figure size 432x288 with 1 Axes>"
      ]
     },
     "metadata": {},
     "output_type": "display_data"
    },
    {
     "data": {
      "image/png": "[encoded data removed]",
      "text/plain": [
       "<Figure size 432x288 with 1 Axes>"
      ]
     },
     "metadata": {},
     "output_type": "display_data"
    }
   ],
   "source": [
    "tablebyclass = pd.crosstab(df_agecleaned['Pclass'],df_agecleaned['Survived'])\n",
    "print(tablebyclass)\n",
    "tablebyclass.plot.bar(stacked=False).set_ylabel(\"Number of people\")\n",
    "tablebyclass2 = pd.crosstab(df_agecleaned['Pclass'],df_agecleaned['Survived'], normalize='index')\n",
    "tablebyclass2.plot.bar(stacked=True).set_ylabel(\"Percentage\")\n",
    "print(tablebyclass2)"
   ]
  },
  {
   "cell_type": "markdown",
   "id": "meaning-coordination",
   "metadata": {},
   "source": [
    "#### Higher class survived more than men"
   ]
  }
 ],
 "metadata": {
  "kernelspec": {
   "display_name": "Python 3",
   "language": "python",
   "name": "python3"
  },
  "language_info": {
   "codemirror_mode": {
    "name": "ipython",
    "version": 3
   },
   "file_extension": ".py",
   "mimetype": "text/x-python",
   "name": "python",
   "nbconvert_exporter": "python",
   "pygments_lexer": "ipython3",
   "version": "3.7.9"
  }
 },
 "nbformat": 4,
 "nbformat_minor": 5
}
